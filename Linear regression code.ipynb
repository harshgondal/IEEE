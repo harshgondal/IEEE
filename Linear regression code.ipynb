{
 "cells": [
  {
   "cell_type": "code",
   "execution_count": 30,
   "id": "0a68a381",
   "metadata": {},
   "outputs": [],
   "source": [
    "import numpy as np\n",
    "import pandas as pd\n",
    "import matplotlib.pyplot as plt\n",
    "import math"
   ]
  },
  {
   "cell_type": "code",
   "execution_count": 2,
   "id": "84ed2901",
   "metadata": {},
   "outputs": [],
   "source": [
    "train=pd.read_csv(r\"C:\\Users\\Admin\\Downloads\\tvmarketing.csv\")"
   ]
  },
  {
   "cell_type": "code",
   "execution_count": 3,
   "id": "ac70fbcc",
   "metadata": {},
   "outputs": [],
   "source": [
    "raw_train=np.asmatrix(train)"
   ]
  },
  {
   "cell_type": "code",
   "execution_count": 4,
   "id": "b2f2f4f9",
   "metadata": {},
   "outputs": [],
   "source": [
    "m1 = (np.shape(raw_train))[0]"
   ]
  },
  {
   "cell_type": "code",
   "execution_count": 5,
   "id": "f0595d57",
   "metadata": {},
   "outputs": [],
   "source": [
    "X=np.array(raw_train[:,0])"
   ]
  },
  {
   "cell_type": "code",
   "execution_count": 6,
   "id": "dba1a539",
   "metadata": {},
   "outputs": [],
   "source": [
    "unitm = np.ones(m1, dtype=int)    \n",
    "X = np.insert(X, 0, unitm ,axis=1) "
   ]
  },
  {
   "cell_type": "code",
   "execution_count": 7,
   "id": "e92446a4",
   "metadata": {},
   "outputs": [],
   "source": [
    "Y = np.array(raw_train[:,1]) "
   ]
  },
  {
   "cell_type": "code",
   "execution_count": 8,
   "id": "8c06fa7a",
   "metadata": {},
   "outputs": [
    {
     "name": "stdout",
     "output_type": "stream",
     "text": [
      "\n",
      "Matrix X shape:  (200, 2)\n",
      "Matrix Y shape:  (200, 1)\n"
     ]
    }
   ],
   "source": [
    "print(\"\\nMatrix X shape: \",np.shape(X))             \n",
    "print(\"Matrix Y shape: \", np.shape(Y))"
   ]
  },
  {
   "cell_type": "code",
   "execution_count": 9,
   "id": "5e1e3e19",
   "metadata": {},
   "outputs": [],
   "source": [
    "def Gradient_Descent(X, Y, learning_rate, iterations):\n",
    "    m = Y.size\n",
    "    theta = np.zeros((X.shape[1],1), dtype=int)\n",
    "    cost_list=[]\n",
    "\n",
    "    for i in range(iterations):\n",
    "        y_predicted = np.dot(X, theta)\n",
    "        \n",
    "        cost = (1/(2*m))*(np.sum(np.square(y_predicted - Y)))\n",
    "        \n",
    "        d_theta = (1/m) * np.dot(X.T, y_predicted - Y)\n",
    "        \n",
    "        theta = theta - learning_rate * d_theta\n",
    "\n",
    "        cost_list.append(cost)\n",
    "\n",
    "    return theta,cost_list"
   ]
  },
  {
   "cell_type": "code",
   "execution_count": 11,
   "id": "b6c18ac3",
   "metadata": {},
   "outputs": [],
   "source": [
    "itr = 1500000\n",
    "lr = 0.0000001\n",
    "theta, cost_list = Gradient_Descent(X, Y, learning_rate=lr, iterations=itr)"
   ]
  },
  {
   "cell_type": "code",
   "execution_count": 12,
   "id": "a44bf75b",
   "metadata": {},
   "outputs": [
    {
     "data": {
      "image/png": "[encoded data removed]",
      "text/plain": [
       "<Figure size 640x480 with 1 Axes>"
      ]
     },
     "metadata": {},
     "output_type": "display_data"
    }
   ],
   "source": [
    "rng = np.arange(0, itr)\n",
    "plt.plot(rng, cost_list)\n",
    "plt.show()"
   ]
  },
  {
   "cell_type": "code",
   "execution_count": 18,
   "id": "ab34aa78",
   "metadata": {},
   "outputs": [
    {
     "name": "stdout",
     "output_type": "stream",
     "text": [
      "The price is [[19.11156082]\n",
      " [ 3.90786211]\n",
      " [ 1.6715422 ]\n",
      " [12.67292549]\n",
      " [15.07307835]\n",
      " [ 0.97525212]\n",
      " [ 4.97277635]\n",
      " [10.10893966]\n",
      " [ 0.96706048]\n",
      " [16.62949148]\n",
      " [ 5.67725808]\n",
      " [17.85004703]\n",
      " [ 2.21219097]\n",
      " [ 8.24943556]\n",
      " [16.98173234]\n",
      " [16.26905896]\n",
      " [ 5.8165161 ]\n",
      " [23.31387625]\n",
      " [ 5.93119917]\n",
      " [12.32887627]\n",
      " [18.15313801]\n",
      " [19.70955113]\n",
      " [ 1.34387628]\n",
      " [18.96411116]\n",
      " [ 5.36597546]\n",
      " [21.79842137]\n",
      " [11.96844376]\n",
      " [19.93072562]\n",
      " [20.643399  ]\n",
      " [ 6.04588224]\n",
      " [24.25591577]\n",
      " [ 9.51094935]\n",
      " [ 8.22486061]\n",
      " [22.01959587]\n",
      " [ 8.10198589]\n",
      " [24.07569952]\n",
      " [22.12608729]\n",
      " [ 6.38173981]\n",
      " [ 3.79317904]\n",
      " [18.93953621]\n",
      " [16.85066597]\n",
      " [14.76179573]\n",
      " [24.31325731]\n",
      " [17.21109848]\n",
      " [ 2.3186824 ]\n",
      " [14.60615442]\n",
      " [ 7.61048701]\n",
      " [19.91434233]\n",
      " [18.87400303]\n",
      " [ 5.74279127]\n",
      " [16.62949148]\n",
      " [ 8.48699335]\n",
      " [17.98930505]\n",
      " [15.22052802]\n",
      " [21.78203808]\n",
      " [16.55576664]\n",
      " [ 0.86056905]\n",
      " [11.41960334]\n",
      " [17.53057276]\n",
      " [17.52238111]\n",
      " [ 4.64511043]\n",
      " [21.667355  ]\n",
      " [19.86519244]\n",
      " [ 8.67540125]\n",
      " [11.00182929]\n",
      " [ 5.91481587]\n",
      " [ 2.84294787]\n",
      " [11.67354443]\n",
      " [19.70955113]\n",
      " [18.02207164]\n",
      " [16.57214994]\n",
      " [ 9.25700826]\n",
      " [ 2.45794041]\n",
      " [10.86257127]\n",
      " [17.7435556 ]\n",
      " [ 1.64696726]\n",
      " [ 2.51528195]\n",
      " [10.1335146 ]\n",
      " [ 0.70492774]\n",
      " [ 9.76489044]\n",
      " [ 6.52099783]\n",
      " [19.90615068]\n",
      " [ 6.4308897 ]\n",
      " [ 5.86566599]\n",
      " [17.75174725]\n",
      " [16.08884271]\n",
      " [ 6.51280618]\n",
      " [ 9.3307331 ]\n",
      " [ 7.49580394]\n",
      " [ 9.25700826]\n",
      " [11.26396203]\n",
      " [ 2.60539008]\n",
      " [18.09579647]\n",
      " [20.81542361]\n",
      " [ 9.06040871]\n",
      " [13.63953995]\n",
      " [16.44927522]\n",
      " [15.40893592]\n",
      " [23.99378304]\n",
      " [11.33768686]\n",
      " [18.48080393]\n",
      " [24.54262346]\n",
      " [23.21557648]\n",
      " [15.65468536]\n",
      " [19.77508431]\n",
      " [11.55886136]\n",
      " [ 2.31049075]\n",
      " [ 7.66782855]\n",
      " [ 1.33568464]\n",
      " [21.18404777]\n",
      " [18.75931996]\n",
      " [20.06179199]\n",
      " [14.6553043 ]\n",
      " [17.43227298]\n",
      " [ 6.66844749]\n",
      " [ 6.4145064 ]\n",
      " [11.66535278]\n",
      " [ 6.52099783]\n",
      " [10.5594803 ]\n",
      " [ 1.85175846]\n",
      " [11.83737739]\n",
      " [ 1.80260857]\n",
      " [18.61187029]\n",
      " [10.34649745]\n",
      " [19.06241093]\n",
      " [ 7.40569581]\n",
      " [ 0.90152729]\n",
      " [ 6.83228045]\n",
      " [18.30877932]\n",
      " [ 5.14480096]\n",
      " [ 0.31992028]\n",
      " [21.98682928]\n",
      " [ 0.95067718]\n",
      " [18.26782108]\n",
      " [ 3.28529686]\n",
      " [ 4.21914474]\n",
      " [ 2.35964064]\n",
      " [22.68311936]\n",
      " [ 3.78498739]\n",
      " [15.40893592]\n",
      " [ 6.27524839]\n",
      " [16.12980095]\n",
      " [18.32516261]\n",
      " [ 8.83104257]\n",
      " [ 8.14294413]\n",
      " [11.75546091]\n",
      " [19.93072562]\n",
      " [20.18466671]\n",
      " [ 3.37540499]\n",
      " [ 3.92424541]\n",
      " [23.25653472]\n",
      " [10.17447284]\n",
      " [16.44927522]\n",
      " [14.29487179]\n",
      " [15.64649371]\n",
      " [ 0.59843631]\n",
      " [ 7.95453623]\n",
      " [12.53366747]\n",
      " [ 1.22100156]\n",
      " [11.05097918]\n",
      " [14.39317157]\n",
      " [ 7.28282109]\n",
      " [15.6956436 ]\n",
      " [13.65592325]\n",
      " [ 9.86319022]\n",
      " [19.47199334]\n",
      " [ 1.72888374]\n",
      " [17.20290684]\n",
      " [17.90738857]\n",
      " [23.55143405]\n",
      " [ 4.35840275]\n",
      " [13.73783973]\n",
      " [ 1.86814176]\n",
      " [14.057314  ]\n",
      " [18.48080393]\n",
      " [22.94525209]\n",
      " [20.61063241]\n",
      " [14.20476366]\n",
      " [22.9288688 ]\n",
      " [13.82794785]\n",
      " [13.09069953]\n",
      " [18.16132965]\n",
      " [ 4.86628493]\n",
      " [23.82175843]\n",
      " [21.0529814 ]\n",
      " [17.05545717]\n",
      " [11.68992772]\n",
      " [15.9168181 ]\n",
      " [23.69069206]\n",
      " [ 1.79441692]\n",
      " [ 3.49827971]\n",
      " [ 6.447273  ]\n",
      " [ 1.6715422 ]\n",
      " [13.92624763]\n",
      " [12.52547582]\n",
      " [ 3.39178829]\n",
      " [ 7.97911117]\n",
      " [14.76179573]\n",
      " [23.49409251]\n",
      " [19.27539378]]\n"
     ]
    }
   ],
   "source": [
    "m = X.shape[0]\n",
    "y_predicted = np.dot(X, theta)\n",
    "error = (1/m) * np.sum(np.abs(y_predicted - Y))\n",
    "print(\"The price is\",y_predicted)\n",
    "\n"
   ]
  },
  {
   "cell_type": "code",
   "execution_count": 27,
   "id": "d06b075f",
   "metadata": {},
   "outputs": [
    {
     "name": "stdout",
     "output_type": "stream",
     "text": [
      "Mean is  [14.0225]\n"
     ]
    }
   ],
   "source": [
    "sum=0\n",
    "for i in range(m):\n",
    "    sum=sum+Y[i]\n",
    "    mean=sum/m    \n",
    "print(\"Mean is \",mean)    \n",
    "    "
   ]
  },
  {
   "cell_type": "code",
   "execution_count": 31,
   "id": "56d01d99",
   "metadata": {},
   "outputs": [
    {
     "name": "stdout",
     "output_type": "stream",
     "text": [
      "The standard deviation 5.10742045948833\n"
     ]
    }
   ],
   "source": [
    "c=0\n",
    "for i in range(m):\n",
    "    c+=(Y[i]- mean)**2\n",
    "    psd = math.sqrt(c/m)\n",
    "ssd = math.sqrt(c/m - 1)\n",
    "print(\"The standard deviation\",ssd)\n",
    "\n"
   ]
  },
  {
   "cell_type": "code",
   "execution_count": null,
   "id": "1abbe05e",
   "metadata": {},
   "outputs": [],
   "source": []
  }
 ],
 "metadata": {
  "kernelspec": {
   "display_name": "Python 3 (ipykernel)",
   "language": "python",
   "name": "python3"
  },
  "language_info": {
   "codemirror_mode": {
    "name": "ipython",
    "version": 3
   },
   "file_extension": ".py",
   "mimetype": "text/x-python",
   "name": "python",
   "nbconvert_exporter": "python",
   "pygments_lexer": "ipython3",
   "version": "3.9.13"
  }
 },
 "nbformat": 4,
 "nbformat_minor": 5
}
